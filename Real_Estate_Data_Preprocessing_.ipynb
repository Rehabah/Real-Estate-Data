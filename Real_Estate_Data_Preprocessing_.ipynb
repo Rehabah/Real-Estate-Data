{
  "nbformat": 4,
  "nbformat_minor": 0,
  "metadata": {
    "colab": {
      "name": "Real Estate Data Preprocessing .ipynb",
      "provenance": [],
      "collapsed_sections": [],
      "authorship_tag": "ABX9TyOzTSx+itWH7GhsDRBnkBcF",
      "include_colab_link": true
    },
    "kernelspec": {
      "name": "python3",
      "display_name": "Python 3"
    },
    "language_info": {
      "name": "python"
    }
  },
  "cells": [
    {
      "cell_type": "markdown",
      "metadata": {
        "id": "view-in-github",
        "colab_type": "text"
      },
      "source": [
        "<a href=\"https://colab.research.google.com/github/Rehabah/Real-Estate-Data/blob/main/Real_Estate_Data_Preprocessing_.ipynb\" target=\"_parent\"><img src=\"https://colab.research.google.com/assets/colab-badge.svg\" alt=\"Open In Colab\"/></a>"
      ]
    },
    {
      "cell_type": "code",
      "execution_count": null,
      "metadata": {
        "id": "F6zep5UPweoz"
      },
      "outputs": [],
      "source": [
        "import sys\n",
        "import psycopg2\n",
        "import pandas as pd\n",
        "import numpy as np\n",
        "from matplotlib import pyplot as plt \n",
        "import seaborn as sns\n",
        "import matplotlib.pyplot as plt"
      ]
    },
    {
      "cell_type": "code",
      "source": [
        "conn = None\n",
        "try:\n",
        "    conn = psycopg2.connect(\"dbname = '' user = '' host = '' password = ''\")\n",
        "except psycopg2.DatabaseError:\n",
        "    print (\"I am unable to connect the database: \" )\n",
        "    sys.exit(1)"
      ],
      "metadata": {
        "id": "3n4BPLFtwnOd"
      },
      "execution_count": null,
      "outputs": []
    },
    {
      "cell_type": "code",
      "source": [
        "Query_1=\"\"\" ;\"\"\"\n",
        "Row1=pd.read_sql(Query_1, conn,index_col=None)"
      ],
      "metadata": {
        "id": "-ngtWOJtwqLq"
      },
      "execution_count": null,
      "outputs": []
    },
    {
      "cell_type": "code",
      "source": [
        "len(Row1)"
      ],
      "metadata": {
        "id": "8vrmBeBfwqPN"
      },
      "execution_count": null,
      "outputs": []
    },
    {
      "cell_type": "code",
      "source": [
        "Row1.columns"
      ],
      "metadata": {
        "id": "VW6HIRzVwyKW"
      },
      "execution_count": null,
      "outputs": []
    },
    {
      "cell_type": "code",
      "source": [
        "Row1.head()"
      ],
      "metadata": {
        "id": "VfW2e8Mvwv_N"
      },
      "execution_count": null,
      "outputs": []
    },
    {
      "cell_type": "code",
      "source": [
        "Row1.isna().sum()"
      ],
      "metadata": {
        "id": "IYlYuyjPxSEc"
      },
      "execution_count": null,
      "outputs": []
    },
    {
      "cell_type": "code",
      "source": [
        "pd.set_option('display.float_format', lambda x: '%0f' % x)\n",
        "pd.set_option('display.max_colwidth', None)"
      ],
      "metadata": {
        "id": "1J1UBTeRw0lO"
      },
      "execution_count": null,
      "outputs": []
    },
    {
      "cell_type": "code",
      "source": [
        "import datetime\n",
        "Row1['collection_time1']=Row1['collection_time'].dt.date  "
      ],
      "metadata": {
        "id": "J6qdLduMw25d"
      },
      "execution_count": null,
      "outputs": []
    },
    {
      "cell_type": "code",
      "source": [
        "data=Row1\n",
        "len(data)"
      ],
      "metadata": {
        "id": "tWGmrIllw5aY"
      },
      "execution_count": null,
      "outputs": []
    },
    {
      "cell_type": "code",
      "source": [
        "data['property_location_district']=data['property_location_district'].str.replace('حي',\"\")\n",
        "data['property_location_district']=data['property_location_district'].str.strip()"
      ],
      "metadata": {
        "id": "ZVkdzuTJw7Yb"
      },
      "execution_count": null,
      "outputs": []
    },
    {
      "cell_type": "code",
      "source": [
        "data.loc[data['property_name'].str.contains('للإيجار'),'property_price_instalment']='إيجار'\n",
        "data.loc[data['property_name'].str.contains('للبيع '),'property_price_instalment']='بيع'\n",
        "data.loc[data['property_cat'].str.contains('RENT'),'property_price_instalment']='إيجار'\n",
        "data.loc[data['property_cat'].str.contains('SALE'),'property_price_instalment']='بيع'"
      ],
      "metadata": {
        "id": "iEOSLo4Nw935"
      },
      "execution_count": null,
      "outputs": []
    },
    {
      "cell_type": "code",
      "source": [
        "#add condition null for property type\n",
        "data.loc[data['property_cat'].str.contains('LAND '),'property_type']='أرض'\n",
        "data.loc[data['property_cat'].str.contains('VILLA '),'property_type']='فيلا'\n",
        "data.loc[data['property_cat'].str.contains('HOUSE '),'property_type']='بيت'\n",
        "data.loc[data['property_cat'].str.contains('BUILDING '),'property_type']='عمارة'\n",
        "data.loc[data['property_cat'].str.contains('APARTMENT '),'property_type']='شقة'\n",
        "data.loc[data['property_cat'].str.contains('STORE '),'property_type']='محل'\n",
        "data.loc[data['property_cat'].str.contains('FLOOR '),'property_type']='دور'"
      ],
      "metadata": {
        "id": "Cm9zsCpzxA4j"
      },
      "execution_count": null,
      "outputs": []
    },
    {
      "cell_type": "code",
      "source": [
        "len(data.loc[data['property_area'].str.contains( '</span>',na=False)])"
      ],
      "metadata": {
        "id": "0SO4TkCPxD9i"
      },
      "execution_count": null,
      "outputs": []
    },
    {
      "cell_type": "code",
      "source": [
        "#meter price\n",
        "data['property_price']=data['property_price'].str.replace(',',\"\")\n",
        "data['property_price']=data['property_price'].str.strip() \n",
        "data['property_area']=data['property_area'].str.replace('م²',\"\")\n",
        "data['property_area']=data['property_area'].str.strip()\n"
      ],
      "metadata": {
        "id": "gFZYYQmgxFwW"
      },
      "execution_count": null,
      "outputs": []
    },
    {
      "cell_type": "code",
      "source": [
        "data['property_url1']=data['property_url'].str.replace('https://sa.aqar.fm/',\"\")\n",
        "data['property_url1']=data['property_url1'].str.strip()"
      ],
      "metadata": {
        "id": "EY0qBrtxxF6s"
      },
      "execution_count": null,
      "outputs": []
    },
    {
      "cell_type": "code",
      "source": [
        "data['property_area1']=data['property_area'].str.split().str[0]"
      ],
      "metadata": {
        "id": "e9T6RqejxK-8"
      },
      "execution_count": null,
      "outputs": []
    },
    {
      "cell_type": "code",
      "source": [
        "len(data.loc[data['property_area1']==''])"
      ],
      "metadata": {
        "id": "ctd5uFzBxNZl"
      },
      "execution_count": null,
      "outputs": []
    },
    {
      "cell_type": "code",
      "source": [
        "data['street']=data['property_name'].str.split('شارع').str[-1]\n",
        "data['street1']=data['street'].str.split('،').str[0]"
      ],
      "metadata": {
        "id": "bvUjpTouxPeM"
      },
      "execution_count": null,
      "outputs": []
    },
    {
      "cell_type": "code",
      "source": [
        "data.loc[~data['property_name'].str.contains(\"شارع \", case=False),'street1']='Unknown'"
      ],
      "metadata": {
        "id": "ZslwunuBxWuv"
      },
      "execution_count": null,
      "outputs": []
    },
    {
      "cell_type": "code",
      "source": [
        "data['property_time'].unique()"
      ],
      "metadata": {
        "id": "sJNEn6Ewxan3"
      },
      "execution_count": null,
      "outputs": []
    },
    {
      "cell_type": "code",
      "source": [
        "data['property_time1']=''\n",
        "data['property_time1']=data['collection_time1']"
      ],
      "metadata": {
        "id": "lMa0v880xcq3"
      },
      "execution_count": null,
      "outputs": []
    },
    {
      "cell_type": "code",
      "source": [
        "data.loc[data['property_time'].str.contains('قبل يومين',na=False),'property_time']='قبل 2 يوم'\n",
        "data.loc[data['property_time'].str.contains('قبل يوم',na=False),'property_time']='قبل 1 يوم'\n",
        "data.loc[data['property_time'].str.contains('قبل شهرين',na=False),'property_time']='قبل 2 شهر'\n",
        "data.loc[data['property_time'].str.contains('قبل شهر',na=False),'property_time']='قبل 1 شهر'\n",
        "data.loc[data['property_time'].str.contains('قبل اسبوعين',na=False),'property_time']='قبل 2 اسبوع'\n",
        "data.loc[data['property_time'].str.contains('قبل اسبوع',na=False),'property_time']='قبل 1 اسبوع'"
      ],
      "metadata": {
        "id": "ttzPxZipxcy9"
      },
      "execution_count": null,
      "outputs": []
    },
    {
      "cell_type": "code",
      "source": [
        "data['property_time']=data['property_time'].str.replace('قبل',\"\")\n",
        "data['property_time']=data['property_time'].str.replace('أيام|ايام',\"يوم\")\n",
        "data['property_time']=data['property_time'].str.replace('شهور','شهر')\n",
        "data['property_time']=data['property_time'].str.replace('اسابيع','اسبوع')"
      ],
      "metadata": {
        "id": "0mG1TNcyxlZu"
      },
      "execution_count": null,
      "outputs": []
    },
    {
      "cell_type": "code",
      "source": [
        "data.loc[data['property_time'].str.contains('يوم',na=False),'days']=data['property_time']\n",
        "data.loc[data['property_time'].str.contains('شهر',na=False),'month']=data['property_time']\n",
        "data.loc[data['property_time'].str.contains('اسبوع',na=False),'week']=data['property_time']\n",
        "\n",
        "data['days1']=data['days'].str.extract('(\\d+)')\n",
        "data['month1']=data['month'].str.extract('(\\d+)')\n",
        "data['week1']=data['week'].str.extract('(\\d+)')\n",
        "\n",
        "data['days1']=data['days1'].fillna(0)\n",
        "data['month1']=data['month1'].fillna(0)\n",
        "data['week1']=data['week1'].fillna(0)\n",
        "\n",
        "data[\"month1\"] = data[\"month1\"].astype(int)\n",
        "data[\"week1\"] = data[\"week1\"].astype(int)\n",
        "\n",
        "data['month1']=data['month1'].multiply(other =30)\n",
        "data['week1']=data['week1'].multiply(other =7)"
      ],
      "metadata": {
        "id": "lcqmlgvTxlh5"
      },
      "execution_count": null,
      "outputs": []
    },
    {
      "cell_type": "code",
      "source": [
        "data.loc[data['days1']==0,'days1']=data['month1']\n",
        "data.loc[data['days1']==0,'days1']=data['week1']"
      ],
      "metadata": {
        "id": "UF5Ot443xrY4"
      },
      "execution_count": null,
      "outputs": []
    },
    {
      "cell_type": "code",
      "source": [
        "data['days1'].unique()"
      ],
      "metadata": {
        "id": "BEDcC42OxuL1"
      },
      "execution_count": null,
      "outputs": []
    },
    {
      "cell_type": "code",
      "source": [
        "data[\"days1\"] = data[\"days1\"].astype(int)\n",
        "data[\"property_time1\"]=data[\"collection_time1\"]-pd.to_timedelta(data[\"days1\"], unit='D')"
      ],
      "metadata": {
        "id": "4b4NHIiexv8V"
      },
      "execution_count": null,
      "outputs": []
    },
    {
      "cell_type": "code",
      "source": [
        ""
      ],
      "metadata": {
        "id": "apAWgIYjxxtu"
      },
      "execution_count": null,
      "outputs": []
    }
  ]
}